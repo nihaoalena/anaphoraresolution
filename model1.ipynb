{
  "nbformat": 4,
  "nbformat_minor": 0,
  "metadata": {
    "colab": {
      "name": "model1.ipynb",
      "provenance": [],
      "collapsed_sections": [],
      "toc_visible": true
    },
    "kernelspec": {
      "name": "python3",
      "display_name": "Python 3"
    },
    "accelerator": "GPU",
    "widgets": {
      "application/vnd.jupyter.widget-state+json": {
        "ed756077c33d4bc4839c73d192f64c67": {
          "model_module": "@jupyter-widgets/controls",
          "model_name": "HBoxModel",
          "state": {
            "_view_name": "HBoxView",
            "_dom_classes": [],
            "_model_name": "HBoxModel",
            "_view_module": "@jupyter-widgets/controls",
            "_model_module_version": "1.5.0",
            "_view_count": null,
            "_view_module_version": "1.5.0",
            "box_style": "",
            "layout": "IPY_MODEL_2cea2f9d11824f46a8035df7653e0f26",
            "_model_module": "@jupyter-widgets/controls",
            "children": [
              "IPY_MODEL_0e82ca057a3b4923ba84624207fd8f3a",
              "IPY_MODEL_e62248ed037843858bf5354a2e822eeb"
            ]
          }
        },
        "2cea2f9d11824f46a8035df7653e0f26": {
          "model_module": "@jupyter-widgets/base",
          "model_name": "LayoutModel",
          "state": {
            "_view_name": "LayoutView",
            "grid_template_rows": null,
            "right": null,
            "justify_content": null,
            "_view_module": "@jupyter-widgets/base",
            "overflow": null,
            "_model_module_version": "1.2.0",
            "_view_count": null,
            "flex_flow": null,
            "width": null,
            "min_width": null,
            "border": null,
            "align_items": null,
            "bottom": null,
            "_model_module": "@jupyter-widgets/base",
            "top": null,
            "grid_column": null,
            "overflow_y": null,
            "overflow_x": null,
            "grid_auto_flow": null,
            "grid_area": null,
            "grid_template_columns": null,
            "flex": null,
            "_model_name": "LayoutModel",
            "justify_items": null,
            "grid_row": null,
            "max_height": null,
            "align_content": null,
            "visibility": null,
            "align_self": null,
            "height": null,
            "min_height": null,
            "padding": null,
            "grid_auto_rows": null,
            "grid_gap": null,
            "max_width": null,
            "order": null,
            "_view_module_version": "1.2.0",
            "grid_template_areas": null,
            "object_position": null,
            "object_fit": null,
            "grid_auto_columns": null,
            "margin": null,
            "display": null,
            "left": null
          }
        },
        "0e82ca057a3b4923ba84624207fd8f3a": {
          "model_module": "@jupyter-widgets/controls",
          "model_name": "FloatProgressModel",
          "state": {
            "_view_name": "ProgressView",
            "style": "IPY_MODEL_2084e780c7c44ae2bc53da7070ef4120",
            "_dom_classes": [],
            "description": "Downloading: 100%",
            "_model_name": "FloatProgressModel",
            "bar_style": "success",
            "max": 109540,
            "_view_module": "@jupyter-widgets/controls",
            "_model_module_version": "1.5.0",
            "value": 109540,
            "_view_count": null,
            "_view_module_version": "1.5.0",
            "orientation": "horizontal",
            "min": 0,
            "description_tooltip": null,
            "_model_module": "@jupyter-widgets/controls",
            "layout": "IPY_MODEL_78fe72a5e3e947f4a175882810b315af"
          }
        },
        "e62248ed037843858bf5354a2e822eeb": {
          "model_module": "@jupyter-widgets/controls",
          "model_name": "HTMLModel",
          "state": {
            "_view_name": "HTMLView",
            "style": "IPY_MODEL_9f2b5883d1d14849adc596b35290093a",
            "_dom_classes": [],
            "description": "",
            "_model_name": "HTMLModel",
            "placeholder": "​",
            "_view_module": "@jupyter-widgets/controls",
            "_model_module_version": "1.5.0",
            "value": " 110k/110k [00:00&lt;00:00, 948kB/s]",
            "_view_count": null,
            "_view_module_version": "1.5.0",
            "description_tooltip": null,
            "_model_module": "@jupyter-widgets/controls",
            "layout": "IPY_MODEL_28034558aafb4c889cee326fab886e44"
          }
        },
        "2084e780c7c44ae2bc53da7070ef4120": {
          "model_module": "@jupyter-widgets/controls",
          "model_name": "ProgressStyleModel",
          "state": {
            "_view_name": "StyleView",
            "_model_name": "ProgressStyleModel",
            "description_width": "initial",
            "_view_module": "@jupyter-widgets/base",
            "_model_module_version": "1.5.0",
            "_view_count": null,
            "_view_module_version": "1.2.0",
            "bar_color": null,
            "_model_module": "@jupyter-widgets/controls"
          }
        },
        "78fe72a5e3e947f4a175882810b315af": {
          "model_module": "@jupyter-widgets/base",
          "model_name": "LayoutModel",
          "state": {
            "_view_name": "LayoutView",
            "grid_template_rows": null,
            "right": null,
            "justify_content": null,
            "_view_module": "@jupyter-widgets/base",
            "overflow": null,
            "_model_module_version": "1.2.0",
            "_view_count": null,
            "flex_flow": null,
            "width": null,
            "min_width": null,
            "border": null,
            "align_items": null,
            "bottom": null,
            "_model_module": "@jupyter-widgets/base",
            "top": null,
            "grid_column": null,
            "overflow_y": null,
            "overflow_x": null,
            "grid_auto_flow": null,
            "grid_area": null,
            "grid_template_columns": null,
            "flex": null,
            "_model_name": "LayoutModel",
            "justify_items": null,
            "grid_row": null,
            "max_height": null,
            "align_content": null,
            "visibility": null,
            "align_self": null,
            "height": null,
            "min_height": null,
            "padding": null,
            "grid_auto_rows": null,
            "grid_gap": null,
            "max_width": null,
            "order": null,
            "_view_module_version": "1.2.0",
            "grid_template_areas": null,
            "object_position": null,
            "object_fit": null,
            "grid_auto_columns": null,
            "margin": null,
            "display": null,
            "left": null
          }
        },
        "9f2b5883d1d14849adc596b35290093a": {
          "model_module": "@jupyter-widgets/controls",
          "model_name": "DescriptionStyleModel",
          "state": {
            "_view_name": "StyleView",
            "_model_name": "DescriptionStyleModel",
            "description_width": "",
            "_view_module": "@jupyter-widgets/base",
            "_model_module_version": "1.5.0",
            "_view_count": null,
            "_view_module_version": "1.2.0",
            "_model_module": "@jupyter-widgets/controls"
          }
        },
        "28034558aafb4c889cee326fab886e44": {
          "model_module": "@jupyter-widgets/base",
          "model_name": "LayoutModel",
          "state": {
            "_view_name": "LayoutView",
            "grid_template_rows": null,
            "right": null,
            "justify_content": null,
            "_view_module": "@jupyter-widgets/base",
            "overflow": null,
            "_model_module_version": "1.2.0",
            "_view_count": null,
            "flex_flow": null,
            "width": null,
            "min_width": null,
            "border": null,
            "align_items": null,
            "bottom": null,
            "_model_module": "@jupyter-widgets/base",
            "top": null,
            "grid_column": null,
            "overflow_y": null,
            "overflow_x": null,
            "grid_auto_flow": null,
            "grid_area": null,
            "grid_template_columns": null,
            "flex": null,
            "_model_name": "LayoutModel",
            "justify_items": null,
            "grid_row": null,
            "max_height": null,
            "align_content": null,
            "visibility": null,
            "align_self": null,
            "height": null,
            "min_height": null,
            "padding": null,
            "grid_auto_rows": null,
            "grid_gap": null,
            "max_width": null,
            "order": null,
            "_view_module_version": "1.2.0",
            "grid_template_areas": null,
            "object_position": null,
            "object_fit": null,
            "grid_auto_columns": null,
            "margin": null,
            "display": null,
            "left": null
          }
        },
        "96fe1a69600f42ff829914bb42d4396e": {
          "model_module": "@jupyter-widgets/controls",
          "model_name": "HBoxModel",
          "state": {
            "_view_name": "HBoxView",
            "_dom_classes": [],
            "_model_name": "HBoxModel",
            "_view_module": "@jupyter-widgets/controls",
            "_model_module_version": "1.5.0",
            "_view_count": null,
            "_view_module_version": "1.5.0",
            "box_style": "",
            "layout": "IPY_MODEL_ce4f5d92d82141358220f9a7e13fe7d2",
            "_model_module": "@jupyter-widgets/controls",
            "children": [
              "IPY_MODEL_8b6a9d268c93479cbf2a160f5cb6a27e",
              "IPY_MODEL_33aeae909eab41f2a93e219282d18458"
            ]
          }
        },
        "ce4f5d92d82141358220f9a7e13fe7d2": {
          "model_module": "@jupyter-widgets/base",
          "model_name": "LayoutModel",
          "state": {
            "_view_name": "LayoutView",
            "grid_template_rows": null,
            "right": null,
            "justify_content": null,
            "_view_module": "@jupyter-widgets/base",
            "overflow": null,
            "_model_module_version": "1.2.0",
            "_view_count": null,
            "flex_flow": null,
            "width": null,
            "min_width": null,
            "border": null,
            "align_items": null,
            "bottom": null,
            "_model_module": "@jupyter-widgets/base",
            "top": null,
            "grid_column": null,
            "overflow_y": null,
            "overflow_x": null,
            "grid_auto_flow": null,
            "grid_area": null,
            "grid_template_columns": null,
            "flex": null,
            "_model_name": "LayoutModel",
            "justify_items": null,
            "grid_row": null,
            "max_height": null,
            "align_content": null,
            "visibility": null,
            "align_self": null,
            "height": null,
            "min_height": null,
            "padding": null,
            "grid_auto_rows": null,
            "grid_gap": null,
            "max_width": null,
            "order": null,
            "_view_module_version": "1.2.0",
            "grid_template_areas": null,
            "object_position": null,
            "object_fit": null,
            "grid_auto_columns": null,
            "margin": null,
            "display": null,
            "left": null
          }
        },
        "8b6a9d268c93479cbf2a160f5cb6a27e": {
          "model_module": "@jupyter-widgets/controls",
          "model_name": "FloatProgressModel",
          "state": {
            "_view_name": "ProgressView",
            "style": "IPY_MODEL_a17688dde7af47b3b416f8f69a6d401e",
            "_dom_classes": [],
            "description": "Downloading: 100%",
            "_model_name": "FloatProgressModel",
            "bar_style": "success",
            "max": 624,
            "_view_module": "@jupyter-widgets/controls",
            "_model_module_version": "1.5.0",
            "value": 624,
            "_view_count": null,
            "_view_module_version": "1.5.0",
            "orientation": "horizontal",
            "min": 0,
            "description_tooltip": null,
            "_model_module": "@jupyter-widgets/controls",
            "layout": "IPY_MODEL_6c25cc976e7d4e868c1ededd2341993d"
          }
        },
        "33aeae909eab41f2a93e219282d18458": {
          "model_module": "@jupyter-widgets/controls",
          "model_name": "HTMLModel",
          "state": {
            "_view_name": "HTMLView",
            "style": "IPY_MODEL_23c488d138ed4ef1a8f0e3da6dbaf89a",
            "_dom_classes": [],
            "description": "",
            "_model_name": "HTMLModel",
            "placeholder": "​",
            "_view_module": "@jupyter-widgets/controls",
            "_model_module_version": "1.5.0",
            "value": " 624/624 [00:00&lt;00:00, 1.21kB/s]",
            "_view_count": null,
            "_view_module_version": "1.5.0",
            "description_tooltip": null,
            "_model_module": "@jupyter-widgets/controls",
            "layout": "IPY_MODEL_718739958b5648d681cb029321d47332"
          }
        },
        "a17688dde7af47b3b416f8f69a6d401e": {
          "model_module": "@jupyter-widgets/controls",
          "model_name": "ProgressStyleModel",
          "state": {
            "_view_name": "StyleView",
            "_model_name": "ProgressStyleModel",
            "description_width": "initial",
            "_view_module": "@jupyter-widgets/base",
            "_model_module_version": "1.5.0",
            "_view_count": null,
            "_view_module_version": "1.2.0",
            "bar_color": null,
            "_model_module": "@jupyter-widgets/controls"
          }
        },
        "6c25cc976e7d4e868c1ededd2341993d": {
          "model_module": "@jupyter-widgets/base",
          "model_name": "LayoutModel",
          "state": {
            "_view_name": "LayoutView",
            "grid_template_rows": null,
            "right": null,
            "justify_content": null,
            "_view_module": "@jupyter-widgets/base",
            "overflow": null,
            "_model_module_version": "1.2.0",
            "_view_count": null,
            "flex_flow": null,
            "width": null,
            "min_width": null,
            "border": null,
            "align_items": null,
            "bottom": null,
            "_model_module": "@jupyter-widgets/base",
            "top": null,
            "grid_column": null,
            "overflow_y": null,
            "overflow_x": null,
            "grid_auto_flow": null,
            "grid_area": null,
            "grid_template_columns": null,
            "flex": null,
            "_model_name": "LayoutModel",
            "justify_items": null,
            "grid_row": null,
            "max_height": null,
            "align_content": null,
            "visibility": null,
            "align_self": null,
            "height": null,
            "min_height": null,
            "padding": null,
            "grid_auto_rows": null,
            "grid_gap": null,
            "max_width": null,
            "order": null,
            "_view_module_version": "1.2.0",
            "grid_template_areas": null,
            "object_position": null,
            "object_fit": null,
            "grid_auto_columns": null,
            "margin": null,
            "display": null,
            "left": null
          }
        },
        "23c488d138ed4ef1a8f0e3da6dbaf89a": {
          "model_module": "@jupyter-widgets/controls",
          "model_name": "DescriptionStyleModel",
          "state": {
            "_view_name": "StyleView",
            "_model_name": "DescriptionStyleModel",
            "description_width": "",
            "_view_module": "@jupyter-widgets/base",
            "_model_module_version": "1.5.0",
            "_view_count": null,
            "_view_module_version": "1.2.0",
            "_model_module": "@jupyter-widgets/controls"
          }
        },
        "718739958b5648d681cb029321d47332": {
          "model_module": "@jupyter-widgets/base",
          "model_name": "LayoutModel",
          "state": {
            "_view_name": "LayoutView",
            "grid_template_rows": null,
            "right": null,
            "justify_content": null,
            "_view_module": "@jupyter-widgets/base",
            "overflow": null,
            "_model_module_version": "1.2.0",
            "_view_count": null,
            "flex_flow": null,
            "width": null,
            "min_width": null,
            "border": null,
            "align_items": null,
            "bottom": null,
            "_model_module": "@jupyter-widgets/base",
            "top": null,
            "grid_column": null,
            "overflow_y": null,
            "overflow_x": null,
            "grid_auto_flow": null,
            "grid_area": null,
            "grid_template_columns": null,
            "flex": null,
            "_model_name": "LayoutModel",
            "justify_items": null,
            "grid_row": null,
            "max_height": null,
            "align_content": null,
            "visibility": null,
            "align_self": null,
            "height": null,
            "min_height": null,
            "padding": null,
            "grid_auto_rows": null,
            "grid_gap": null,
            "max_width": null,
            "order": null,
            "_view_module_version": "1.2.0",
            "grid_template_areas": null,
            "object_position": null,
            "object_fit": null,
            "grid_auto_columns": null,
            "margin": null,
            "display": null,
            "left": null
          }
        },
        "f5583040073f445290968193d9525961": {
          "model_module": "@jupyter-widgets/controls",
          "model_name": "HBoxModel",
          "state": {
            "_view_name": "HBoxView",
            "_dom_classes": [],
            "_model_name": "HBoxModel",
            "_view_module": "@jupyter-widgets/controls",
            "_model_module_version": "1.5.0",
            "_view_count": null,
            "_view_module_version": "1.5.0",
            "box_style": "",
            "layout": "IPY_MODEL_5b812eadc20b4927b1a6ebf9154f7176",
            "_model_module": "@jupyter-widgets/controls",
            "children": [
              "IPY_MODEL_c408e20004f2445680648159548d8a99",
              "IPY_MODEL_dfaac8a354b94dcc959aeb4371c39d8a"
            ]
          }
        },
        "5b812eadc20b4927b1a6ebf9154f7176": {
          "model_module": "@jupyter-widgets/base",
          "model_name": "LayoutModel",
          "state": {
            "_view_name": "LayoutView",
            "grid_template_rows": null,
            "right": null,
            "justify_content": null,
            "_view_module": "@jupyter-widgets/base",
            "overflow": null,
            "_model_module_version": "1.2.0",
            "_view_count": null,
            "flex_flow": null,
            "width": null,
            "min_width": null,
            "border": null,
            "align_items": null,
            "bottom": null,
            "_model_module": "@jupyter-widgets/base",
            "top": null,
            "grid_column": null,
            "overflow_y": null,
            "overflow_x": null,
            "grid_auto_flow": null,
            "grid_area": null,
            "grid_template_columns": null,
            "flex": null,
            "_model_name": "LayoutModel",
            "justify_items": null,
            "grid_row": null,
            "max_height": null,
            "align_content": null,
            "visibility": null,
            "align_self": null,
            "height": null,
            "min_height": null,
            "padding": null,
            "grid_auto_rows": null,
            "grid_gap": null,
            "max_width": null,
            "order": null,
            "_view_module_version": "1.2.0",
            "grid_template_areas": null,
            "object_position": null,
            "object_fit": null,
            "grid_auto_columns": null,
            "margin": null,
            "display": null,
            "left": null
          }
        },
        "c408e20004f2445680648159548d8a99": {
          "model_module": "@jupyter-widgets/controls",
          "model_name": "FloatProgressModel",
          "state": {
            "_view_name": "ProgressView",
            "style": "IPY_MODEL_871686c598304520ad87290d992fed1e",
            "_dom_classes": [],
            "description": "Downloading: 100%",
            "_model_name": "FloatProgressModel",
            "bar_style": "success",
            "max": 411577189,
            "_view_module": "@jupyter-widgets/controls",
            "_model_module_version": "1.5.0",
            "value": 411577189,
            "_view_count": null,
            "_view_module_version": "1.5.0",
            "orientation": "horizontal",
            "min": 0,
            "description_tooltip": null,
            "_model_module": "@jupyter-widgets/controls",
            "layout": "IPY_MODEL_fb0d596556c4441e8d9c199cfa24c212"
          }
        },
        "dfaac8a354b94dcc959aeb4371c39d8a": {
          "model_module": "@jupyter-widgets/controls",
          "model_name": "HTMLModel",
          "state": {
            "_view_name": "HTMLView",
            "style": "IPY_MODEL_c56027af7021411cbc6ec52ecb172c45",
            "_dom_classes": [],
            "description": "",
            "_model_name": "HTMLModel",
            "placeholder": "​",
            "_view_module": "@jupyter-widgets/controls",
            "_model_module_version": "1.5.0",
            "value": " 412M/412M [00:28&lt;00:00, 14.6MB/s]",
            "_view_count": null,
            "_view_module_version": "1.5.0",
            "description_tooltip": null,
            "_model_module": "@jupyter-widgets/controls",
            "layout": "IPY_MODEL_881760dbde1843a5bdaf2c6ef56b7d35"
          }
        },
        "871686c598304520ad87290d992fed1e": {
          "model_module": "@jupyter-widgets/controls",
          "model_name": "ProgressStyleModel",
          "state": {
            "_view_name": "StyleView",
            "_model_name": "ProgressStyleModel",
            "description_width": "initial",
            "_view_module": "@jupyter-widgets/base",
            "_model_module_version": "1.5.0",
            "_view_count": null,
            "_view_module_version": "1.2.0",
            "bar_color": null,
            "_model_module": "@jupyter-widgets/controls"
          }
        },
        "fb0d596556c4441e8d9c199cfa24c212": {
          "model_module": "@jupyter-widgets/base",
          "model_name": "LayoutModel",
          "state": {
            "_view_name": "LayoutView",
            "grid_template_rows": null,
            "right": null,
            "justify_content": null,
            "_view_module": "@jupyter-widgets/base",
            "overflow": null,
            "_model_module_version": "1.2.0",
            "_view_count": null,
            "flex_flow": null,
            "width": null,
            "min_width": null,
            "border": null,
            "align_items": null,
            "bottom": null,
            "_model_module": "@jupyter-widgets/base",
            "top": null,
            "grid_column": null,
            "overflow_y": null,
            "overflow_x": null,
            "grid_auto_flow": null,
            "grid_area": null,
            "grid_template_columns": null,
            "flex": null,
            "_model_name": "LayoutModel",
            "justify_items": null,
            "grid_row": null,
            "max_height": null,
            "align_content": null,
            "visibility": null,
            "align_self": null,
            "height": null,
            "min_height": null,
            "padding": null,
            "grid_auto_rows": null,
            "grid_gap": null,
            "max_width": null,
            "order": null,
            "_view_module_version": "1.2.0",
            "grid_template_areas": null,
            "object_position": null,
            "object_fit": null,
            "grid_auto_columns": null,
            "margin": null,
            "display": null,
            "left": null
          }
        },
        "c56027af7021411cbc6ec52ecb172c45": {
          "model_module": "@jupyter-widgets/controls",
          "model_name": "DescriptionStyleModel",
          "state": {
            "_view_name": "StyleView",
            "_model_name": "DescriptionStyleModel",
            "description_width": "",
            "_view_module": "@jupyter-widgets/base",
            "_model_module_version": "1.5.0",
            "_view_count": null,
            "_view_module_version": "1.2.0",
            "_model_module": "@jupyter-widgets/controls"
          }
        },
        "881760dbde1843a5bdaf2c6ef56b7d35": {
          "model_module": "@jupyter-widgets/base",
          "model_name": "LayoutModel",
          "state": {
            "_view_name": "LayoutView",
            "grid_template_rows": null,
            "right": null,
            "justify_content": null,
            "_view_module": "@jupyter-widgets/base",
            "overflow": null,
            "_model_module_version": "1.2.0",
            "_view_count": null,
            "flex_flow": null,
            "width": null,
            "min_width": null,
            "border": null,
            "align_items": null,
            "bottom": null,
            "_model_module": "@jupyter-widgets/base",
            "top": null,
            "grid_column": null,
            "overflow_y": null,
            "overflow_x": null,
            "grid_auto_flow": null,
            "grid_area": null,
            "grid_template_columns": null,
            "flex": null,
            "_model_name": "LayoutModel",
            "justify_items": null,
            "grid_row": null,
            "max_height": null,
            "align_content": null,
            "visibility": null,
            "align_self": null,
            "height": null,
            "min_height": null,
            "padding": null,
            "grid_auto_rows": null,
            "grid_gap": null,
            "max_width": null,
            "order": null,
            "_view_module_version": "1.2.0",
            "grid_template_areas": null,
            "object_position": null,
            "object_fit": null,
            "grid_auto_columns": null,
            "margin": null,
            "display": null,
            "left": null
          }
        }
      }
    }
  },
  "cells": [
    {
      "cell_type": "markdown",
      "metadata": {
        "id": "jx8koEGjATvQ",
        "colab_type": "text"
      },
      "source": [
        "# Эксперимент №1. Создание модели для разрешения анафоры китайского языка"
      ]
    },
    {
      "cell_type": "markdown",
      "metadata": {
        "id": "QbF-hNDhBDjR",
        "colab_type": "text"
      },
      "source": [
        "Используется предобученная модель BERT и датасет WSC Winograd"
      ]
    },
    {
      "cell_type": "code",
      "metadata": {
        "id": "VtX4Q-pZA3_7",
        "colab_type": "code",
        "outputId": "1600a291-4a81-47ce-b319-e958eb7f9740",
        "colab": {
          "base_uri": "https://localhost:8080/",
          "height": 445
        }
      },
      "source": [
        "pip install transformers seqeval"
      ],
      "execution_count": 0,
      "outputs": [
        {
          "output_type": "stream",
          "text": [
            "Requirement already satisfied: transformers in /usr/local/lib/python3.6/dist-packages (2.9.1)\n",
            "Requirement already satisfied: seqeval in /usr/local/lib/python3.6/dist-packages (0.0.12)\n",
            "Requirement already satisfied: regex!=2019.12.17 in /usr/local/lib/python3.6/dist-packages (from transformers) (2019.12.20)\n",
            "Requirement already satisfied: tqdm>=4.27 in /usr/local/lib/python3.6/dist-packages (from transformers) (4.41.1)\n",
            "Requirement already satisfied: tokenizers==0.7.0 in /usr/local/lib/python3.6/dist-packages (from transformers) (0.7.0)\n",
            "Requirement already satisfied: requests in /usr/local/lib/python3.6/dist-packages (from transformers) (2.23.0)\n",
            "Requirement already satisfied: dataclasses; python_version < \"3.7\" in /usr/local/lib/python3.6/dist-packages (from transformers) (0.7)\n",
            "Requirement already satisfied: sentencepiece in /usr/local/lib/python3.6/dist-packages (from transformers) (0.1.90)\n",
            "Requirement already satisfied: numpy in /usr/local/lib/python3.6/dist-packages (from transformers) (1.18.4)\n",
            "Requirement already satisfied: filelock in /usr/local/lib/python3.6/dist-packages (from transformers) (3.0.12)\n",
            "Requirement already satisfied: sacremoses in /usr/local/lib/python3.6/dist-packages (from transformers) (0.0.43)\n",
            "Requirement already satisfied: Keras>=2.2.4 in /usr/local/lib/python3.6/dist-packages (from seqeval) (2.3.1)\n",
            "Requirement already satisfied: chardet<4,>=3.0.2 in /usr/local/lib/python3.6/dist-packages (from requests->transformers) (3.0.4)\n",
            "Requirement already satisfied: certifi>=2017.4.17 in /usr/local/lib/python3.6/dist-packages (from requests->transformers) (2020.4.5.1)\n",
            "Requirement already satisfied: urllib3!=1.25.0,!=1.25.1,<1.26,>=1.21.1 in /usr/local/lib/python3.6/dist-packages (from requests->transformers) (1.24.3)\n",
            "Requirement already satisfied: idna<3,>=2.5 in /usr/local/lib/python3.6/dist-packages (from requests->transformers) (2.9)\n",
            "Requirement already satisfied: joblib in /usr/local/lib/python3.6/dist-packages (from sacremoses->transformers) (0.14.1)\n",
            "Requirement already satisfied: click in /usr/local/lib/python3.6/dist-packages (from sacremoses->transformers) (7.1.2)\n",
            "Requirement already satisfied: six in /usr/local/lib/python3.6/dist-packages (from sacremoses->transformers) (1.12.0)\n",
            "Requirement already satisfied: pyyaml in /usr/local/lib/python3.6/dist-packages (from Keras>=2.2.4->seqeval) (3.13)\n",
            "Requirement already satisfied: keras-applications>=1.0.6 in /usr/local/lib/python3.6/dist-packages (from Keras>=2.2.4->seqeval) (1.0.8)\n",
            "Requirement already satisfied: h5py in /usr/local/lib/python3.6/dist-packages (from Keras>=2.2.4->seqeval) (2.10.0)\n",
            "Requirement already satisfied: keras-preprocessing>=1.0.5 in /usr/local/lib/python3.6/dist-packages (from Keras>=2.2.4->seqeval) (1.1.0)\n",
            "Requirement already satisfied: scipy>=0.14 in /usr/local/lib/python3.6/dist-packages (from Keras>=2.2.4->seqeval) (1.4.1)\n"
          ],
          "name": "stdout"
        }
      ]
    },
    {
      "cell_type": "code",
      "metadata": {
        "id": "qYNsyZYiA_24",
        "colab_type": "code",
        "outputId": "96ca662b-d7e6-4ba9-928c-66e8ee211bb3",
        "colab": {
          "base_uri": "https://localhost:8080/"
        }
      },
      "source": [
        "import os\n",
        "import json\n",
        "import torch\n",
        "from torch.utils.data import TensorDataset, DataLoader, RandomSampler, SequentialSampler\n",
        "from transformers import BertTokenizer, BertConfig\n",
        "from transformers import BertForTokenClassification, AdamW\n",
        "from transformers import get_linear_schedule_with_warmup\n",
        "\n",
        "from keras.preprocessing.sequence import pad_sequences\n",
        "from sklearn.model_selection import train_test_split\n",
        "from seqeval.metrics import f1_score, classification_report\n",
        "\n",
        "import numpy as np\n",
        "import matplotlib.pyplot as plt\n",
        "from tqdm import tqdm, trange\n",
        "\n",
        "import seaborn as sns\n",
        "\n",
        "from google.colab import drive,files\n",
        "\n",
        "sns.set(style='darkgrid')\n",
        "sns.set(font_scale=1.5)\n",
        "plt.rcParams[\"figure.figsize\"] = (12,6)"
      ],
      "execution_count": 0,
      "outputs": [
        {
          "output_type": "stream",
          "text": [
            "Using TensorFlow backend.\n",
            "/usr/local/lib/python3.6/dist-packages/statsmodels/tools/_testing.py:19: FutureWarning: pandas.util.testing is deprecated. Use the functions in the public API at pandas.testing instead.\n",
            "  import pandas.util.testing as tm\n"
          ],
          "name": "stderr"
        }
      ]
    },
    {
      "cell_type": "code",
      "metadata": {
        "id": "SKFSwBlCDO8X",
        "colab_type": "code",
        "outputId": "9ea906bb-4119-42cf-cf39-7c014e368af5",
        "colab": {
          "base_uri": "https://localhost:8080/",
          "height": 51
        }
      },
      "source": [
        "device = 'cuda' if torch.cuda.is_available() else 'cpu'\n",
        "device = torch.device(device)\n",
        "\n",
        "print(device.type)\n",
        "if device.type == 'cuda':\n",
        "    print(torch.cuda.get_device_name(0))"
      ],
      "execution_count": 0,
      "outputs": [
        {
          "output_type": "stream",
          "text": [
            "cuda\n",
            "Tesla K80\n"
          ],
          "name": "stdout"
        }
      ]
    },
    {
      "cell_type": "markdown",
      "metadata": {
        "id": "hVNNxQVXDGXe",
        "colab_type": "text"
      },
      "source": [
        "## Токенизатор"
      ]
    },
    {
      "cell_type": "code",
      "metadata": {
        "id": "5xSSE26RDJjD",
        "colab_type": "code",
        "outputId": "5ba52f61-8b7d-428c-c3ef-cc37050a1508",
        "colab": {
          "base_uri": "https://localhost:8080/",
          "height": 66,
          "referenced_widgets": [
            "ed756077c33d4bc4839c73d192f64c67",
            "2cea2f9d11824f46a8035df7653e0f26",
            "0e82ca057a3b4923ba84624207fd8f3a",
            "e62248ed037843858bf5354a2e822eeb",
            "2084e780c7c44ae2bc53da7070ef4120",
            "78fe72a5e3e947f4a175882810b315af",
            "9f2b5883d1d14849adc596b35290093a",
            "28034558aafb4c889cee326fab886e44"
          ]
        }
      },
      "source": [
        "tokenizer = BertTokenizer.from_pretrained('bert-base-chinese')"
      ],
      "execution_count": 0,
      "outputs": [
        {
          "output_type": "display_data",
          "data": {
            "application/vnd.jupyter.widget-view+json": {
              "model_id": "ed756077c33d4bc4839c73d192f64c67",
              "version_minor": 0,
              "version_major": 2
            },
            "text/plain": [
              "HBox(children=(FloatProgress(value=0.0, description='Downloading', max=109540.0, style=ProgressStyle(descripti…"
            ]
          },
          "metadata": {
            "tags": []
          }
        },
        {
          "output_type": "stream",
          "text": [
            "\n"
          ],
          "name": "stdout"
        }
      ]
    },
    {
      "cell_type": "code",
      "metadata": {
        "id": "Fh1AkIHQReex",
        "colab_type": "code",
        "outputId": "7385d0d1-1d57-454e-84f6-8c6bd486abe0",
        "colab": {
          "base_uri": "https://localhost:8080/",
          "height": 34
        }
      },
      "source": [
        "tokenizer.tokenize(\"他买了扑热息痛，这种药很有效。\") #пример работы токенизатора"
      ],
      "execution_count": 0,
      "outputs": [
        {
          "output_type": "execute_result",
          "data": {
            "text/plain": [
              "['他', '买', '了', '扑', '热', '息', '痛', '，', '这', '种', '药', '很', '有', '效', '。']"
            ]
          },
          "metadata": {
            "tags": []
          },
          "execution_count": 6
        }
      ]
    },
    {
      "cell_type": "markdown",
      "metadata": {
        "id": "Omri7TBmBPqq",
        "colab_type": "text"
      },
      "source": [
        "## Датасет\n",
        "\n",
        "Преобразуем WSC Winograd в удобный для работы вид. Используем собственную IO-разметку:\n",
        "\n",
        "* O - посторонний тег\n",
        "* S1 - антецедент\n",
        "* S2 - анафор"
      ]
    },
    {
      "cell_type": "code",
      "metadata": {
        "id": "VzxDnUx6BOYX",
        "colab_type": "code",
        "colab": {}
      },
      "source": [
        "def json2io(filename):\n",
        "    sentences = []\n",
        "    labels = []\n",
        "    with open(filename) as f:\n",
        "        for jline in f:\n",
        "            data = json.loads(jline)\n",
        "            if 'label' in data.keys() and data['label'] == 'true':\n",
        "                span1_tokens = tokenizer.tokenize(data['target']['span1_text'])\n",
        "                span2_tokens = tokenizer.tokenize(data['target']['span2_text'])\n",
        "                full_text_tokens = tokenizer.tokenize(data['text'])\n",
        "\n",
        "                if len(full_text_tokens) != len(data['text']):\n",
        "                    # print(len(full_text_tokens), len(data['text']))\n",
        "                    # print(data['text'])\n",
        "                    # print(full_text_tokens)\n",
        "                    # print()\n",
        "                    pass\n",
        "                else:\n",
        "                    ft_labels = list('O'*len(full_text_tokens))\n",
        "                    # S1\n",
        "                    pos_start = data['target']['span1_index']\n",
        "                    for i in range(len(span1_tokens)):\n",
        "                        position = pos_start + i\n",
        "                        ft_labels[position] = 'S1'\n",
        "                    \n",
        "                    # S2\n",
        "                    pos_start = data['target']['span2_index']\n",
        "                    for i in range(len(span2_tokens)):\n",
        "                        position = pos_start + i\n",
        "                        ft_labels[position] = 'S2'\n",
        "                    \n",
        "                    # append data\n",
        "                    assert len(full_text_tokens) == len(ft_labels)\n",
        "                    sentences.append(full_text_tokens)\n",
        "                    labels.append(ft_labels)\n",
        "            else:\n",
        "                span1_tokens = tokenizer.tokenize(data['target']['span1_text'])\n",
        "                span2_tokens = tokenizer.tokenize(data['target']['span2_text'])\n",
        "                full_text_tokens = tokenizer.tokenize(data['text'])\n",
        "\n",
        "                if len(full_text_tokens) != len(data['text']):\n",
        "                    # print(len(full_text_tokens), len(data['text']))\n",
        "                    # print(data['text'])\n",
        "                    # print(full_text_tokens)\n",
        "                    # print()\n",
        "                    pass\n",
        "                else:\n",
        "                    ft_labels = list('O'*len(full_text_tokens))\n",
        "                    # S1\n",
        "                    pos_start = data['target']['span1_index']\n",
        "                    for i in range(len(span1_tokens)):\n",
        "                        position = pos_start + i\n",
        "                        ft_labels[position] = 'S1'\n",
        "                    \n",
        "                    # S2\n",
        "                    pos_start = data['target']['span2_index']\n",
        "                    for i in range(len(span2_tokens)):\n",
        "                        position = pos_start + i\n",
        "                        ft_labels[position] = 'S2'\n",
        "                    \n",
        "                    # append data\n",
        "                    assert len(full_text_tokens) == len(ft_labels)\n",
        "                    sentences.append(full_text_tokens)\n",
        "                    labels.append(ft_labels)\n",
        "    return sentences, labels"
      ],
      "execution_count": 0,
      "outputs": []
    },
    {
      "cell_type": "code",
      "metadata": {
        "id": "kjJw3yoBjZ51",
        "colab_type": "code",
        "outputId": "e152c3c0-facc-4a2d-af58-23c7c9fe0fba",
        "colab": {
          "base_uri": "https://localhost:8080/",
          "height": 122
        }
      },
      "source": [
        "drive.mount('/content/drive')"
      ],
      "execution_count": 0,
      "outputs": [
        {
          "output_type": "stream",
          "text": [
            "Go to this URL in a browser: https://accounts.google.com/o/oauth2/auth?client_id=947318989803-6bn6qk8qdgf4n4g3pfee6491hc0brc4i.apps.googleusercontent.com&redirect_uri=urn%3aietf%3awg%3aoauth%3a2.0%3aoob&response_type=code&scope=email%20https%3a%2f%2fwww.googleapis.com%2fauth%2fdocs.test%20https%3a%2f%2fwww.googleapis.com%2fauth%2fdrive%20https%3a%2f%2fwww.googleapis.com%2fauth%2fdrive.photos.readonly%20https%3a%2f%2fwww.googleapis.com%2fauth%2fpeopleapi.readonly\n",
            "\n",
            "Enter your authorization code:\n",
            "··········\n",
            "Mounted at /content/drive\n"
          ],
          "name": "stdout"
        }
      ]
    },
    {
      "cell_type": "code",
      "metadata": {
        "id": "GAxHaaMmB5CO",
        "colab_type": "code",
        "colab": {}
      },
      "source": [
        "dev = '/content/drive/My Drive/colab_data/Anaphora/dev.json'\n",
        "test = '/content/drive/My Drive/colab_data/Anaphora/test.json'\n",
        "train = '/content/drive/My Drive/colab_data/Anaphora/train.json'"
      ],
      "execution_count": 0,
      "outputs": []
    },
    {
      "cell_type": "code",
      "metadata": {
        "id": "Xm-e-R6HCk1e",
        "colab_type": "code",
        "colab": {}
      },
      "source": [
        "sentences_dev, labels_dev = json2io(dev)\n",
        "sentences_test, labels_test = json2io(test)\n",
        "sentences_train, labels_train = json2io(train)\n",
        "\n",
        "assert len(sentences_dev) == len(labels_dev)\n",
        "assert len(sentences_test) == len(labels_test)\n",
        "assert len(sentences_train) == len(labels_train)"
      ],
      "execution_count": 0,
      "outputs": []
    },
    {
      "cell_type": "code",
      "metadata": {
        "id": "hoGea1tBD5k-",
        "colab_type": "code",
        "outputId": "baf4e38e-9e71-44f6-896c-740c6bc32a9f",
        "colab": {
          "base_uri": "https://localhost:8080/",
          "height": 34
        }
      },
      "source": [
        "print(len(labels_train), len(labels_dev), len(labels_test))"
      ],
      "execution_count": 0,
      "outputs": [
        {
          "output_type": "stream",
          "text": [
            "1183 304 280\n"
          ],
          "name": "stdout"
        }
      ]
    },
    {
      "cell_type": "code",
      "metadata": {
        "id": "j7KcIBpaFdWC",
        "colab_type": "code",
        "outputId": "4359fc52-3238-4c22-cb35-dd81d8426bd6",
        "colab": {
          "base_uri": "https://localhost:8080/",
          "height": 71
        }
      },
      "source": [
        "print(sentences_train[0])\n",
        "print(labels_train[0])"
      ],
      "execution_count": 0,
      "outputs": [
        {
          "output_type": "stream",
          "text": [
            "['裂', '开', '的', '伤', '口', '涂', '满', '尘', '土', '，', '里', '面', '有', '碎', '石', '子', '和', '木', '头', '刺', '，', '我', '小', '心', '翼', '翼', '把', '它', '们', '剔', '除', '出', '去', '。']\n",
            "['O', 'O', 'O', 'S1', 'S1', 'O', 'O', 'O', 'O', 'O', 'O', 'O', 'O', 'O', 'O', 'O', 'O', 'O', 'O', 'O', 'O', 'O', 'O', 'O', 'O', 'O', 'O', 'S2', 'S2', 'O', 'O', 'O', 'O', 'O']\n"
          ],
          "name": "stdout"
        }
      ]
    },
    {
      "cell_type": "code",
      "metadata": {
        "id": "cbuleOOoFoFn",
        "colab_type": "code",
        "colab": {}
      },
      "source": [
        "tag2idx = {\n",
        "    'PAD': 0,\n",
        "    'O': 1,\n",
        "    'S1': 2,\n",
        "    'S2': 3\n",
        "}"
      ],
      "execution_count": 0,
      "outputs": []
    },
    {
      "cell_type": "code",
      "metadata": {
        "id": "Q8lyQsf_KL-g",
        "colab_type": "code",
        "outputId": "20d8adf9-004b-409a-8bb3-0de628e90ab7",
        "colab": {
          "base_uri": "https://localhost:8080/",
          "height": 34
        }
      },
      "source": [
        "tag_values = list(tag2idx.keys())\n",
        "tag_values"
      ],
      "execution_count": 0,
      "outputs": [
        {
          "output_type": "execute_result",
          "data": {
            "text/plain": [
              "['PAD', 'O', 'S1', 'S2']"
            ]
          },
          "metadata": {
            "tags": []
          },
          "execution_count": 14
        }
      ]
    },
    {
      "cell_type": "markdown",
      "metadata": {
        "id": "luXp69cOQXDf",
        "colab_type": "text"
      },
      "source": [
        "Выбираем длину последовательности для подачи на вход нейросети. Длина у всех последовательностей должна быть одинаковой, т.к. они идут в виде тензора. Максимальная длина для Берта - 512, но выбирается другая длина из-за особенностей датасета. Короткие последовательности дополняются нулями."
      ]
    },
    {
      "cell_type": "code",
      "metadata": {
        "id": "e3VkIt_BGGIq",
        "colab_type": "code",
        "colab": {}
      },
      "source": [
        "lenths = [len(sent) for sent in sentences_train]"
      ],
      "execution_count": 0,
      "outputs": []
    },
    {
      "cell_type": "code",
      "metadata": {
        "id": "iERqSiWaGK6U",
        "colab_type": "code",
        "outputId": "daeac44f-686d-4d97-9ce7-daad13b3b485",
        "colab": {
          "base_uri": "https://localhost:8080/",
          "height": 68
        }
      },
      "source": [
        "print('Минимальная длина последовательности:', min(lenths),'\\n','Средняя длина последовательности:', round(np.mean(lenths),2),'\\n','Максимальная длина последовательности:', max(lenths))"
      ],
      "execution_count": 0,
      "outputs": [
        {
          "output_type": "stream",
          "text": [
            "Минимальная длина последовательности: 21 \n",
            " Средняя длина последовательности: 62.23 \n",
            " Максимальная длина последовательности: 147\n"
          ],
          "name": "stdout"
        }
      ]
    },
    {
      "cell_type": "code",
      "metadata": {
        "id": "MiEnNSEhGOH4",
        "colab_type": "code",
        "outputId": "f94c9ba0-d3e2-4e5c-cdda-b5d25c14a526",
        "colab": {
          "base_uri": "https://localhost:8080/",
          "height": 444
        }
      },
      "source": [
        "test = plt.figure()\n",
        "plt.hist(lenths, color='#3F5D7D')\n",
        "plt.title('Распределение длин последовательностей')\n",
        "plt.xlabel('Длина')\n",
        "plt.ylabel('Кол-во последовательностей')\n",
        "plt.figure(figsize=(12, 9)) \n",
        "test.show()\n",
        "#test.savefig('distributionlength.png') \n",
        "#files.download('distributionlength.png')"
      ],
      "execution_count": 0,
      "outputs": [
        {
          "output_type": "display_data",
          "data": {
            "image/png": "[encoded data removed]",
            "text/plain": [
              "<Figure size 864x432 with 1 Axes>"
            ]
          },
          "metadata": {
            "tags": []
          }
        },
        {
          "output_type": "display_data",
          "data": {
            "text/plain": [
              "<Figure size 864x648 with 0 Axes>"
            ]
          },
          "metadata": {
            "tags": []
          }
        }
      ]
    },
    {
      "cell_type": "code",
      "metadata": {
        "id": "99J8dk2yGWG4",
        "colab_type": "code",
        "colab": {}
      },
      "source": [
        "# Возьмём максимальную длину входной последовательности\n",
        "input_ids = pad_sequences([tokenizer.convert_tokens_to_ids(txt) for txt in sentences_train],\n",
        "                          maxlen=147,\n",
        "                          dtype='long',\n",
        "                          value=0.0,\n",
        "                          truncating='post',\n",
        "                          padding='post')\n",
        "tags = pad_sequences([[tag2idx.get(l) for l in lab] for lab in labels_train],\n",
        "                     maxlen=147,\n",
        "                     value=tag2idx['PAD'],\n",
        "                     padding='post',\n",
        "                     dtype='long',\n",
        "                     truncating='post')"
      ],
      "execution_count": 0,
      "outputs": []
    },
    {
      "cell_type": "code",
      "metadata": {
        "id": "sViSNx9oG07a",
        "colab_type": "code",
        "outputId": "ad25e502-0073-4999-9d4e-a98b1bc8c60e",
        "colab": {
          "base_uri": "https://localhost:8080/",
          "height": 374
        }
      },
      "source": [
        "input_ids[0], tags[0]"
      ],
      "execution_count": 0,
      "outputs": [
        {
          "output_type": "execute_result",
          "data": {
            "text/plain": [
              "(array([6162, 2458, 4638,  839, 1366, 3864, 4007, 2212, 1759, 8024, 7027,\n",
              "        7481, 3300, 4810, 4767, 2094, 1469, 3312, 1928, 1173, 8024, 2769,\n",
              "        2207, 2552, 5437, 5437, 2828, 2124,  812, 1188, 7370, 1139, 1343,\n",
              "         511,    0,    0,    0,    0,    0,    0,    0,    0,    0,    0,\n",
              "           0,    0,    0,    0,    0,    0,    0,    0,    0,    0,    0,\n",
              "           0,    0,    0,    0,    0,    0,    0,    0,    0,    0,    0,\n",
              "           0,    0,    0,    0,    0,    0,    0,    0,    0,    0,    0,\n",
              "           0,    0,    0,    0,    0,    0,    0,    0,    0,    0,    0,\n",
              "           0,    0,    0,    0,    0,    0,    0,    0,    0,    0,    0,\n",
              "           0,    0,    0,    0,    0,    0,    0,    0,    0,    0,    0,\n",
              "           0,    0,    0,    0,    0,    0,    0,    0,    0,    0,    0,\n",
              "           0,    0,    0,    0,    0,    0,    0,    0,    0,    0,    0,\n",
              "           0,    0,    0,    0,    0,    0,    0,    0,    0,    0,    0,\n",
              "           0,    0,    0,    0]),\n",
              " array([1, 1, 1, 2, 2, 1, 1, 1, 1, 1, 1, 1, 1, 1, 1, 1, 1, 1, 1, 1, 1, 1,\n",
              "        1, 1, 1, 1, 1, 3, 3, 1, 1, 1, 1, 1, 0, 0, 0, 0, 0, 0, 0, 0, 0, 0,\n",
              "        0, 0, 0, 0, 0, 0, 0, 0, 0, 0, 0, 0, 0, 0, 0, 0, 0, 0, 0, 0, 0, 0,\n",
              "        0, 0, 0, 0, 0, 0, 0, 0, 0, 0, 0, 0, 0, 0, 0, 0, 0, 0, 0, 0, 0, 0,\n",
              "        0, 0, 0, 0, 0, 0, 0, 0, 0, 0, 0, 0, 0, 0, 0, 0, 0, 0, 0, 0, 0, 0,\n",
              "        0, 0, 0, 0, 0, 0, 0, 0, 0, 0, 0, 0, 0, 0, 0, 0, 0, 0, 0, 0, 0, 0,\n",
              "        0, 0, 0, 0, 0, 0, 0, 0, 0, 0, 0, 0, 0, 0, 0]))"
            ]
          },
          "metadata": {
            "tags": []
          },
          "execution_count": 19
        }
      ]
    },
    {
      "cell_type": "code",
      "metadata": {
        "id": "kBCfrPu0G8O9",
        "colab_type": "code",
        "colab": {}
      },
      "source": [
        "# Маска для игнорирования паддингов\n",
        "attention_masks = [[float(i != 0.0) for i in ii] for ii in input_ids]"
      ],
      "execution_count": 0,
      "outputs": []
    },
    {
      "cell_type": "code",
      "metadata": {
        "id": "j2cENIbeHCBK",
        "colab_type": "code",
        "colab": {}
      },
      "source": [
        "# Валидация\n",
        "input_ids_dev = pad_sequences([tokenizer.convert_tokens_to_ids(txt) for txt in sentences_dev],\n",
        "                          maxlen=147,\n",
        "                          dtype='long',\n",
        "                          value=0.0,\n",
        "                          truncating='post',\n",
        "                          padding='post')\n",
        "tags_dev = pad_sequences([[tag2idx.get(l) for l in lab] for lab in labels_dev],\n",
        "                     maxlen=147,\n",
        "                     value=tag2idx['PAD'],\n",
        "                     padding='post',\n",
        "                     dtype='long',\n",
        "                     truncating='post')\n",
        "attention_masks_dev = [[float(i != 0.0) for i in ii] for ii in input_ids_dev]"
      ],
      "execution_count": 0,
      "outputs": []
    },
    {
      "cell_type": "code",
      "metadata": {
        "id": "wAkTm1-DHUbL",
        "colab_type": "code",
        "colab": {}
      },
      "source": [
        "# Переводим в тензоры\n",
        "tr_inputs = torch.tensor(input_ids)\n",
        "tr_tags = torch.tensor(tags)\n",
        "tr_masks = torch.tensor(attention_masks)\n",
        "\n",
        "val_inputs = torch.tensor(input_ids_dev)\n",
        "val_tags = torch.tensor(tags_dev)\n",
        "val_masks = torch.tensor(attention_masks_dev)"
      ],
      "execution_count": 0,
      "outputs": []
    },
    {
      "cell_type": "code",
      "metadata": {
        "id": "5RqhxqrAH46R",
        "colab_type": "code",
        "colab": {}
      },
      "source": [
        "#Размер батча\n",
        "BATCH_SIZE = 64\n",
        "#Загрузчики данных\n",
        "train_data = TensorDataset(tr_inputs, tr_masks, tr_tags)\n",
        "train_sampler = RandomSampler(train_data)\n",
        "train_dataloader = DataLoader(train_data, sampler=train_sampler, batch_size=BATCH_SIZE)\n",
        "\n",
        "valid_data = TensorDataset(val_inputs, val_masks, val_tags)\n",
        "valid_sampler = SequentialSampler(valid_data)\n",
        "valid_dataloader = DataLoader(valid_data, sampler=valid_sampler, batch_size=BATCH_SIZE)"
      ],
      "execution_count": 0,
      "outputs": []
    },
    {
      "cell_type": "code",
      "metadata": {
        "id": "TofLYqiRIRWM",
        "colab_type": "code",
        "outputId": "3fc2b004-f649-49df-e356-8cb6a4143d5b",
        "colab": {
          "base_uri": "https://localhost:8080/",
          "height": 115,
          "referenced_widgets": [
            "96fe1a69600f42ff829914bb42d4396e",
            "ce4f5d92d82141358220f9a7e13fe7d2",
            "8b6a9d268c93479cbf2a160f5cb6a27e",
            "33aeae909eab41f2a93e219282d18458",
            "a17688dde7af47b3b416f8f69a6d401e",
            "6c25cc976e7d4e868c1ededd2341993d",
            "23c488d138ed4ef1a8f0e3da6dbaf89a",
            "718739958b5648d681cb029321d47332",
            "f5583040073f445290968193d9525961",
            "5b812eadc20b4927b1a6ebf9154f7176",
            "c408e20004f2445680648159548d8a99",
            "dfaac8a354b94dcc959aeb4371c39d8a",
            "871686c598304520ad87290d992fed1e",
            "fb0d596556c4441e8d9c199cfa24c212",
            "c56027af7021411cbc6ec52ecb172c45",
            "881760dbde1843a5bdaf2c6ef56b7d35"
          ]
        }
      },
      "source": [
        "model = BertForTokenClassification.from_pretrained(\n",
        "    'bert-base-chinese',\n",
        "    num_labels=len(tag2idx),\n",
        "    output_attentions = False,\n",
        "    output_hidden_states = False\n",
        ")"
      ],
      "execution_count": 0,
      "outputs": [
        {
          "output_type": "display_data",
          "data": {
            "application/vnd.jupyter.widget-view+json": {
              "model_id": "96fe1a69600f42ff829914bb42d4396e",
              "version_minor": 0,
              "version_major": 2
            },
            "text/plain": [
              "HBox(children=(FloatProgress(value=0.0, description='Downloading', max=624.0, style=ProgressStyle(description_…"
            ]
          },
          "metadata": {
            "tags": []
          }
        },
        {
          "output_type": "stream",
          "text": [
            "\n"
          ],
          "name": "stdout"
        },
        {
          "output_type": "display_data",
          "data": {
            "application/vnd.jupyter.widget-view+json": {
              "model_id": "f5583040073f445290968193d9525961",
              "version_minor": 0,
              "version_major": 2
            },
            "text/plain": [
              "HBox(children=(FloatProgress(value=0.0, description='Downloading', max=411577189.0, style=ProgressStyle(descri…"
            ]
          },
          "metadata": {
            "tags": []
          }
        },
        {
          "output_type": "stream",
          "text": [
            "\n"
          ],
          "name": "stdout"
        }
      ]
    },
    {
      "cell_type": "code",
      "metadata": {
        "id": "ZhfjsV_IIfOv",
        "colab_type": "code",
        "colab": {}
      },
      "source": [
        "FULL_FINETUNING = True\n",
        "if FULL_FINETUNING:\n",
        "    param_optimizer = list(model.named_parameters())\n",
        "    no_decay = ['bias', 'gamma', 'beta']\n",
        "    optimizer_grouped_parameters = [\n",
        "        {'params': [p for n, p in param_optimizer if not any(nd in n for nd in no_decay)],\n",
        "         'weight_decay_rate': 0.01},\n",
        "        {'params': [p for n, p in param_optimizer if any(nd in n for nd in no_decay)],\n",
        "         'weight_decay_rate': 0.0}\n",
        "    ]\n",
        "else:\n",
        "    param_optimizer = list(model.classifier.named_parameters())\n",
        "    optimizer_grouped_parameters = [{\"params\": [p for n, p in param_optimizer]}]\n",
        "\n",
        "optimizer = AdamW(\n",
        "    optimizer_grouped_parameters,\n",
        "    lr=3e-5,\n",
        "    eps=1e-8\n",
        ")"
      ],
      "execution_count": 0,
      "outputs": []
    },
    {
      "cell_type": "code",
      "metadata": {
        "id": "v9scJwI0IltA",
        "colab_type": "code",
        "colab": {}
      },
      "source": [
        "model.to(device);"
      ],
      "execution_count": 0,
      "outputs": []
    },
    {
      "cell_type": "code",
      "metadata": {
        "id": "_DvJ47MQInxU",
        "colab_type": "code",
        "colab": {}
      },
      "source": [
        "epochs = 10\n",
        "max_grad_norm = 1.0"
      ],
      "execution_count": 0,
      "outputs": []
    },
    {
      "cell_type": "code",
      "metadata": {
        "id": "DYoop1-kIpdP",
        "colab_type": "code",
        "colab": {}
      },
      "source": [
        "total_steps = len(train_dataloader) * epochs\n",
        "\n",
        "scheduler = get_linear_schedule_with_warmup(\n",
        "    optimizer,\n",
        "    num_warmup_steps=0,\n",
        "    num_training_steps=total_steps\n",
        ")"
      ],
      "execution_count": 0,
      "outputs": []
    },
    {
      "cell_type": "code",
      "metadata": {
        "id": "-DEY-rKUIrWe",
        "colab_type": "code",
        "colab": {}
      },
      "source": [
        "def flat_accuracy(preds, labels):\n",
        "    pred_flat = np.argmax(preds, axis=2).flatten()\n",
        "    labels_flat = labels.flatten()\n",
        "    return np.sum(pred_flat == labels_flat) / len(labels_flat)"
      ],
      "execution_count": 0,
      "outputs": []
    },
    {
      "cell_type": "markdown",
      "metadata": {
        "id": "_AV4ZkSvRs44",
        "colab_type": "text"
      },
      "source": [
        "# Файн-тюнинг"
      ]
    },
    {
      "cell_type": "code",
      "metadata": {
        "id": "9Gq0VDiQItEu",
        "colab_type": "code",
        "outputId": "5d119002-9287-46bd-af12-b98952df8566",
        "colab": {
          "base_uri": "https://localhost:8080/",
          "height": 972
        }
      },
      "source": [
        "loss_values, validation_loss_values = [], []\n",
        "\n",
        "for _ in trange(epochs, desc='Epoch'):\n",
        "    model.train()\n",
        "    total_loss = 0\n",
        "\n",
        "    for step, batch in enumerate(train_dataloader):\n",
        "        batch = tuple(t.to(device) for t in batch)\n",
        "        b_input_ids, b_input_mask, b_labels = batch\n",
        "\n",
        "        model.zero_grad()\n",
        "\n",
        "        outputs = model(b_input_ids,\n",
        "                        token_type_ids=None,\n",
        "                        attention_mask=b_input_mask,\n",
        "                        labels=b_labels)\n",
        "\n",
        "        loss = outputs[0]\n",
        "        loss.backward()\n",
        "\n",
        "        total_loss += loss.item()\n",
        "\n",
        "        # clip_grad_norm_ помогает против взрыва градиентов\n",
        "        torch.nn.utils.clip_grad_norm_(parameters=model.parameters(), max_norm=max_grad_norm)\n",
        "\n",
        "        optimizer.step()\n",
        "        scheduler.step()\n",
        "\n",
        "    avg_train_loss = total_loss / len(train_dataloader)\n",
        "    print(\"Средний лосс обучения: {}\".format(avg_train_loss))\n",
        "\n",
        "    loss_values.append(avg_train_loss)\n",
        "\n",
        "    # Валидация\n",
        "    model.eval()\n",
        "    eval_loss, eval_accuracy = 0, 0\n",
        "    nb_eval_steps, nb_eval_examples = 0, 0\n",
        "    predictions , true_labels = [], []\n",
        "\n",
        "    for batch in valid_dataloader:\n",
        "        batch = tuple(t.to(device) for t in batch)\n",
        "        b_input_ids, b_input_mask, b_labels = batch\n",
        "\n",
        "        with torch.no_grad():\n",
        "            outputs = model(b_input_ids,\n",
        "                            token_type_ids=None,\n",
        "                            attention_mask=b_input_mask,\n",
        "                            labels=b_labels)\n",
        "            \n",
        "        logits = outputs[1].detach().cpu().numpy()\n",
        "        label_ids = b_labels.to('cpu').numpy()\n",
        "\n",
        "        eval_loss += outputs[0].mean().item()\n",
        "        eval_accuracy += flat_accuracy(logits, label_ids)\n",
        "        predictions.extend([list(p) for p in np.argmax(logits, axis=2)])\n",
        "        true_labels.extend(label_ids)\n",
        "\n",
        "        nb_eval_examples += b_input_ids.size(0)\n",
        "        nb_eval_steps += 1\n",
        "\n",
        "    eval_loss = eval_loss / nb_eval_steps\n",
        "    validation_loss_values.append(eval_loss)\n",
        "    print(\"Лосс на валидации: {}\".format(eval_loss))\n",
        "    print(\"Accuracy на валидации: {}\".format(eval_accuracy/nb_eval_steps))\n",
        "    pred_tags = [tag_values[p_i] for p, l in zip(predictions, true_labels)\n",
        "                                 for p_i, l_i in zip(p, l) if tag_values[l_i] != \"PAD\"]\n",
        "    valid_tags = [tag_values[l_i] for l in true_labels\n",
        "                                  for l_i in l if tag_values[l_i] != \"PAD\"]\n",
        "    print(\"F1 на валидации: {}\".format(f1_score(valid_tags, pred_tags)))\n",
        "    print()"
      ],
      "execution_count": 0,
      "outputs": [
        {
          "output_type": "stream",
          "text": [
            "\rEpoch:   0%|          | 0/10 [00:00<?, ?it/s]/pytorch/torch/csrc/utils/python_arg_parser.cpp:756: UserWarning: This overload of add_ is deprecated:\n",
            "\tadd_(Number alpha, Tensor other)\n",
            "Consider using one of the following signatures instead:\n",
            "\tadd_(Tensor other, *, Number alpha)\n"
          ],
          "name": "stderr"
        },
        {
          "output_type": "stream",
          "text": [
            "Средний лосс обучения: 0.331889418394942\n"
          ],
          "name": "stdout"
        },
        {
          "output_type": "stream",
          "text": [
            "\rEpoch:  10%|█         | 1/10 [00:56<08:32, 56.99s/it]"
          ],
          "name": "stderr"
        },
        {
          "output_type": "stream",
          "text": [
            "Лосс на валидации: 0.16362640559673308\n",
            "Accuracy на валидации: 0.4274659863945578\n",
            "F1 на валидации: 0.3741701870850936\n",
            "\n",
            "Средний лосс обучения: 0.15826508716533058\n"
          ],
          "name": "stdout"
        },
        {
          "output_type": "stream",
          "text": [
            "\rEpoch:  20%|██        | 2/10 [01:54<07:36, 57.07s/it]"
          ],
          "name": "stderr"
        },
        {
          "output_type": "stream",
          "text": [
            "Лосс на валидации: 0.1333576485514641\n",
            "Accuracy на валидации: 0.4296201814058957\n",
            "F1 на валидации: 0.4437869822485207\n",
            "\n",
            "Средний лосс обучения: 0.13460036210323634\n"
          ],
          "name": "stdout"
        },
        {
          "output_type": "stream",
          "text": [
            "\rEpoch:  30%|███       | 3/10 [02:51<06:39, 57.08s/it]"
          ],
          "name": "stderr"
        },
        {
          "output_type": "stream",
          "text": [
            "Лосс на валидации: 0.12585018277168275\n",
            "Accuracy на валидации: 0.42951388888888886\n",
            "F1 на валидации: 0.40453686200378075\n",
            "\n",
            "Средний лосс обучения: 0.1279712836993368\n"
          ],
          "name": "stdout"
        },
        {
          "output_type": "stream",
          "text": [
            "\rEpoch:  40%|████      | 4/10 [03:48<05:42, 57.09s/it]"
          ],
          "name": "stderr"
        },
        {
          "output_type": "stream",
          "text": [
            "Лосс на валидации: 0.12282683551311493\n",
            "Accuracy на валидации: 0.42979024943310656\n",
            "F1 на валидации: 0.42209807572936064\n",
            "\n",
            "Средний лосс обучения: 0.11961710570674193\n"
          ],
          "name": "stdout"
        },
        {
          "output_type": "stream",
          "text": [
            "\rEpoch:  50%|█████     | 5/10 [04:45<04:45, 57.08s/it]"
          ],
          "name": "stderr"
        },
        {
          "output_type": "stream",
          "text": [
            "Лосс на валидации: 0.12241620123386383\n",
            "Accuracy на валидации: 0.4300170068027211\n",
            "F1 на валидации: 0.412252712188896\n",
            "\n",
            "Средний лосс обучения: 0.11724703445246346\n"
          ],
          "name": "stdout"
        },
        {
          "output_type": "stream",
          "text": [
            "\rEpoch:  60%|██████    | 6/10 [05:42<03:48, 57.06s/it]"
          ],
          "name": "stderr"
        },
        {
          "output_type": "stream",
          "text": [
            "Лосс на валидации: 0.12076636552810668\n",
            "Accuracy на валидации: 0.4305555555555555\n",
            "F1 на валидации: 0.4233483001924311\n",
            "\n",
            "Средний лосс обучения: 0.11508900476129431\n"
          ],
          "name": "stdout"
        },
        {
          "output_type": "stream",
          "text": [
            "\rEpoch:  70%|███████   | 7/10 [06:39<02:51, 57.05s/it]"
          ],
          "name": "stderr"
        },
        {
          "output_type": "stream",
          "text": [
            "Лосс на валидации: 0.12293767482042313\n",
            "Accuracy на валидации: 0.4298256802721088\n",
            "F1 на валидации: 0.4226227470478558\n",
            "\n",
            "Средний лосс обучения: 0.11191482998822865\n"
          ],
          "name": "stdout"
        },
        {
          "output_type": "stream",
          "text": [
            "\rEpoch:  80%|████████  | 8/10 [07:36<01:54, 57.05s/it]"
          ],
          "name": "stderr"
        },
        {
          "output_type": "stream",
          "text": [
            "Лосс на валидации: 0.12691766619682313\n",
            "Accuracy на валидации: 0.42970521541950113\n",
            "F1 на валидации: 0.43708609271523186\n",
            "\n",
            "Средний лосс обучения: 0.11190701628986158\n"
          ],
          "name": "stdout"
        },
        {
          "output_type": "stream",
          "text": [
            "\rEpoch:  90%|█████████ | 9/10 [08:33<00:57, 57.03s/it]"
          ],
          "name": "stderr"
        },
        {
          "output_type": "stream",
          "text": [
            "Лосс на валидации: 0.12542441487312317\n",
            "Accuracy на валидации: 0.4300807823129252\n",
            "F1 на валидации: 0.433066008636644\n",
            "\n",
            "Средний лосс обучения: 0.10901167282932683\n"
          ],
          "name": "stdout"
        },
        {
          "output_type": "stream",
          "text": [
            "Epoch: 100%|██████████| 10/10 [09:30<00:00, 57.06s/it]"
          ],
          "name": "stderr"
        },
        {
          "output_type": "stream",
          "text": [
            "Лосс на валидации: 0.1268450379371643\n",
            "Accuracy на валидации: 0.4302579365079365\n",
            "F1 на валидации: 0.4398034398034398\n",
            "\n"
          ],
          "name": "stdout"
        },
        {
          "output_type": "stream",
          "text": [
            "\n"
          ],
          "name": "stderr"
        }
      ]
    },
    {
      "cell_type": "code",
      "metadata": {
        "id": "9I6PHtXDIv7i",
        "colab_type": "code",
        "outputId": "5efbb26e-f117-4d1a-f77b-092ce9d163c0",
        "colab": {
          "base_uri": "https://localhost:8080/",
          "height": 153
        }
      },
      "source": [
        "print(classification_report(valid_tags, pred_tags))"
      ],
      "execution_count": 0,
      "outputs": [
        {
          "output_type": "stream",
          "text": [
            "           precision    recall  f1-score   support\n",
            "\n",
            "       S1       0.42      0.03      0.06       756\n",
            "       S2       0.78      0.87      0.82       387\n",
            "\n",
            "micro avg       0.74      0.31      0.44      1143\n",
            "macro avg       0.54      0.31      0.32      1143\n",
            "\n"
          ],
          "name": "stdout"
        }
      ]
    },
    {
      "cell_type": "markdown",
      "metadata": {
        "id": "3qVW-X5dSQe5",
        "colab_type": "text"
      },
      "source": [
        "Модель очень хорошо научилась определять местоимение, но практически никогда не угадывает антецедент. Видимо, это связано с тем, что местоимения часто повторяются, а в качестве антецедента используются различные слова. Улучшить это можно только увеличением датасета."
      ]
    },
    {
      "cell_type": "code",
      "metadata": {
        "id": "4dmmdQpTIygv",
        "colab_type": "code",
        "outputId": "8e2595b2-a1ce-42b0-b598-77af96e5c85b",
        "colab": {
          "base_uri": "https://localhost:8080/",
          "height": 427
        }
      },
      "source": [
        "modelloss = plt.figure()\n",
        "plt.plot(loss_values, 'b-o', label='Лосс на обучении')\n",
        "plt.plot(validation_loss_values, 'r-o', label='Лосс на валидации')\n",
        "\n",
        "plt.title('Обучение модели')\n",
        "plt.xlabel('Эпохи')\n",
        "plt.ylabel('Потери')\n",
        "plt.legend()\n",
        "modelloss.show()\n",
        "#modelloss.savefig('modelloss.png') \n",
        "#files.download('modelloss.png')"
      ],
      "execution_count": 0,
      "outputs": [
        {
          "output_type": "display_data",
          "data": {
            "image/png": "[encoded data removed]",
            "text/plain": [
              "<Figure size 864x432 with 1 Axes>"
            ]
          },
          "metadata": {
            "tags": []
          }
        }
      ]
    },
    {
      "cell_type": "markdown",
      "metadata": {
        "id": "C3vfjnwDR11c",
        "colab_type": "text"
      },
      "source": [
        "видно, что при данных параметрах уже после 2 эпохи пошло переобучение."
      ]
    },
    {
      "cell_type": "code",
      "metadata": {
        "id": "nPRkPzt-I50S",
        "colab_type": "code",
        "outputId": "164d1745-1257-4bd4-f177-deb70618830c",
        "colab": {
          "base_uri": "https://localhost:8080/",
          "height": 85
        }
      },
      "source": [
        "!mkdir '/content/drive/My Drive/colab_data/Anaphora/BERT_BASELINE/'\n",
        "model.save_pretrained('/content/drive/My Drive/colab_data/Anaphora/BERT_BASELINE/')\n",
        "tokenizer.save_pretrained('/content/drive/My Drive/colab_data/Anaphora/BERT_BASELINE/')"
      ],
      "execution_count": 0,
      "outputs": [
        {
          "output_type": "stream",
          "text": [
            "mkdir: cannot create directory ‘/content/drive/My Drive/colab_data/Anaphora/BERT_BASELINE/’: File exists\n"
          ],
          "name": "stdout"
        },
        {
          "output_type": "execute_result",
          "data": {
            "text/plain": [
              "('/content/drive/My Drive/colab_data/Anaphora/BERT_BASELINE/vocab.txt',\n",
              " '/content/drive/My Drive/colab_data/Anaphora/BERT_BASELINE/special_tokens_map.json',\n",
              " '/content/drive/My Drive/colab_data/Anaphora/BERT_BASELINE/added_tokens.json')"
            ]
          },
          "metadata": {
            "tags": []
          },
          "execution_count": 33
        }
      ]
    },
    {
      "cell_type": "markdown",
      "metadata": {
        "id": "aX2HZtNFoJXW",
        "colab_type": "text"
      },
      "source": [
        "# Наиболее частые анафоры"
      ]
    },
    {
      "cell_type": "code",
      "metadata": {
        "id": "s478XkF6JEqe",
        "colab_type": "code",
        "colab": {}
      },
      "source": [
        "dev = '/content/drive/My Drive/colab_data/Anaphora/dev.json'\n",
        "test = '/content/drive/My Drive/colab_data/Anaphora/test.json'\n",
        "train = '/content/drive/My Drive/colab_data/Anaphora/train.json'"
      ],
      "execution_count": 0,
      "outputs": []
    },
    {
      "cell_type": "code",
      "metadata": {
        "id": "JBcMtRnepjyZ",
        "colab_type": "code",
        "colab": {}
      },
      "source": [
        "import collections\n",
        "import pandas as pd"
      ],
      "execution_count": 0,
      "outputs": []
    },
    {
      "cell_type": "code",
      "metadata": {
        "id": "bgenzqnLoXH2",
        "colab_type": "code",
        "colab": {}
      },
      "source": [
        "with open(train) as f:\n",
        "    wordcount = {}\n",
        "    for jline in f:\n",
        "        data = json.loads(jline)\n",
        "        span2_text = data['target']['span2_text']\n",
        "        if span2_text not in wordcount:\n",
        "            wordcount[span2_text] = 1\n",
        "        else:\n",
        "            wordcount[span2_text] += 1\n",
        "\n",
        "word_counter = collections.Counter(wordcount)"
      ],
      "execution_count": 0,
      "outputs": []
    },
    {
      "cell_type": "code",
      "metadata": {
        "id": "xl26FISupBos",
        "colab_type": "code",
        "outputId": "0be00a9c-2ac5-4fe7-b0a5-e23a138e7f80",
        "colab": {
          "base_uri": "https://localhost:8080/"
        }
      },
      "source": [
        "word_counter.most_common()"
      ],
      "execution_count": 0,
      "outputs": [
        {
          "output_type": "execute_result",
          "data": {
            "text/plain": [
              "[('他', 521),\n",
              " ('她', 248),\n",
              " ('它', 232),\n",
              " ('他们', 136),\n",
              " ('它们', 76),\n",
              " ('她们', 25),\n",
              " ('其', 4),\n",
              " ('她俩', 2)]"
            ]
          },
          "metadata": {
            "tags": []
          },
          "execution_count": 14
        }
      ]
    },
    {
      "cell_type": "code",
      "metadata": {
        "id": "LtMeijqeiblP",
        "colab_type": "code",
        "colab": {}
      },
      "source": [
        "#df = pd.DataFrame(word_counter.most_common(), columns = ['Word', 'Count'],fontproperties=fontprop)\n",
        "#ax = df.plot.bar(x='Word',y='Count')"
      ],
      "execution_count": 0,
      "outputs": []
    }
  ]
}